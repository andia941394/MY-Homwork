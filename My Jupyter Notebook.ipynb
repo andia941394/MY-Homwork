{
 "cells": [
  {
   "cell_type": "markdown",
   "id": "3b7a17a8-2676-4a7a-9996-759f2b3c9d89",
   "metadata": {},
   "source": [
    "# \"My Jupyter Notebook On IBM Watson Studio\" "
   ]
  },
  {
   "cell_type": "markdown",
   "id": "7a6ff330-a692-4315-8805-e43d6e3bffb3",
   "metadata": {},
   "source": [
    "**Marjan**  \n",
    "Data Scientist"
   ]
  },
  {
   "cell_type": "markdown",
   "id": "72c5ed94-63f0-42da-a762-9f5da56dc4b0",
   "metadata": {},
   "source": [
    "_I am interested in data science because I can get valuable information from the data_ "
   ]
  },
  {
   "cell_type": "markdown",
   "id": "9dc257c8-d290-4a98-9ecf-512198b8e086",
   "metadata": {},
   "source": [
    "### Introduction to addition of number"
   ]
  },
  {
   "cell_type": "code",
   "execution_count": 4,
   "id": "b1c9abaf-046a-4a61-a2d7-88e47b264c77",
   "metadata": {},
   "outputs": [
    {
     "name": "stdout",
     "output_type": "stream",
     "text": [
      "15\n"
     ]
    }
   ],
   "source": [
    "a=3  \n",
    "b=4  \n",
    "c=8  \n",
    "print(a+b+c)"
   ]
  },
  {
   "cell_type": "markdown",
   "id": "d35d924f-6bc9-4430-a2ec-67e4c93f2369",
   "metadata": {},
   "source": [
    "* item1 \n",
    "* item2\n",
    "* item3"
   ]
  },
  {
   "cell_type": "markdown",
   "id": "a9c34731-4e75-4028-9f16-e9be6ca4643c",
   "metadata": {},
   "source": [
    "Markdoun | Less | Pretty\n",
    "--- |--- | ---\n",
    "*still* | `renders` | **nicely**\n",
    "1 | 2 | 3"
   ]
  },
  {
   "cell_type": "markdown",
   "id": "f755ee10-6ae2-495c-8918-61c4499c313c",
   "metadata": {},
   "source": [
    "[ www.ibm.com ]( https://www.ibm.com )"
   ]
  },
  {
   "cell_type": "code",
   "execution_count": null,
   "id": "ea50cba8-d44d-4bf4-858d-d560d2ad977a",
   "metadata": {},
   "outputs": [],
   "source": []
  }
 ],
 "metadata": {
  "kernelspec": {
   "display_name": "Python",
   "language": "python",
   "name": "conda-env-python-py"
  },
  "language_info": {
   "codemirror_mode": {
    "name": "ipython",
    "version": 3
   },
   "file_extension": ".py",
   "mimetype": "text/x-python",
   "name": "python",
   "nbconvert_exporter": "python",
   "pygments_lexer": "ipython3",
   "version": "3.7.12"
  }
 },
 "nbformat": 4,
 "nbformat_minor": 5
}
